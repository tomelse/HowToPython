{
 "cells": [
  {
   "cell_type": "markdown",
   "metadata": {
    "pycharm": {
     "name": "#%% md\n"
    },
    "slideshow": {
     "slide_type": "slide"
    },
    "tags": []
   },
   "source": [
    "# How-to: Python\n",
    "## Tom Else 18th October 2022\n",
    "\n",
    "![Python Logo](https://www.python.org/static/community_logos/python-logo-master-v3-TM.png)"
   ]
  },
  {
   "cell_type": "markdown",
   "metadata": {
    "pycharm": {
     "name": "#%%\n"
    },
    "slideshow": {
     "slide_type": "slide"
    },
    "tags": []
   },
   "source": [
    "## 1: What is Python?\n",
    "\n",
    "Python is an interpreted (high-level) programming language. It is flexible and can be super quick! For these reasons, its widely used for research purposes, particularly in areas such as machine learning."
   ]
  },
  {
   "cell_type": "markdown",
   "metadata": {
    "slideshow": {
     "slide_type": "fragment"
    },
    "tags": []
   },
   "source": [
    "* Free + Open source\n",
    "* Fast* and powerful\n",
    "* Runs almost anywhere\n",
    "* Easy to learn and use\n",
    "* Widely used "
   ]
  },
  {
   "cell_type": "markdown",
   "metadata": {
    "slideshow": {
     "slide_type": "slide"
    },
    "tags": []
   },
   "source": [
    "## 2: Why use Python?\n",
    "\n",
    "Programming languages come in many different shapes and sizes, each with their own advantages and disadvantages."
   ]
  },
  {
   "cell_type": "markdown",
   "metadata": {
    "slideshow": {
     "slide_type": "fragment"
    },
    "tags": []
   },
   "source": [
    "\"Low-level\" programming languages are typically compiled directly into machine code that can then later be efficiently run on the computer processor. \n",
    "* C, C++ etc.\n",
    "* Java/C# etc. are somewhere in between\n",
    "* Rust/Julia - some modern languages that try and bridge the gap.\n",
    "* Python/MATLAB/Octave etc.\n",
    "\n",
    "\"Higher-level\" langugages tend to be interpreted, so each line of code is read at run time."
   ]
  },
  {
   "cell_type": "markdown",
   "metadata": {
    "slideshow": {
     "slide_type": "subslide"
    },
    "tags": []
   },
   "source": [
    "e.g.\n",
    "\n",
    "Low-level language such as C:\n",
    "```c\n",
    "double array[] = {1., 2., 3., 4., 5.};\n",
    "int i;\n",
    "double sum;\n",
    "\n",
    "for (i = 0; i<5; i++) {\n",
    "    sum += array[i];\n",
    "}\n",
    "printf(\"%f\\n\", sum);\n",
    "```\n",
    "\n",
    "```bash\n",
    "gcc test.c -o test\n",
    ".\\test\n",
    ">>> 15\n",
    "```\n",
    "\n",
    "High-level language such as Python:\n",
    "```python\n",
    "a = [1,2,3,4,5]\n",
    "print(sum(a))\n",
    "```\n",
    "\n",
    "```bash\n",
    "python test.py\n",
    ">>> 15\n",
    "```"
   ]
  },
  {
   "cell_type": "markdown",
   "metadata": {
    "slideshow": {
     "slide_type": "slide"
    },
    "tags": []
   },
   "source": [
    "* The interpreter means that Python is much slower than C.\n",
    "* The added flexibility means that it's much quicker to prototype things and find bugs.\n",
    "* But libraries such as NumPy (numeric python), SciPy (scientific Python) and machine learning libraries e.g. PyTorch, TensorFlow, JAX etc. can call fast, compiled code for certain operations.\n",
    "* This makes Python close to a \"best of both worlds\" system."
   ]
  },
  {
   "cell_type": "code",
   "execution_count": 13,
   "metadata": {
    "slideshow": {
     "slide_type": "slide"
    },
    "tags": []
   },
   "outputs": [],
   "source": [
    "import numpy as np"
   ]
  },
  {
   "cell_type": "code",
   "execution_count": 14,
   "metadata": {
    "slideshow": {
     "slide_type": "fragment"
    },
    "tags": []
   },
   "outputs": [],
   "source": [
    "N = 1000000"
   ]
  },
  {
   "cell_type": "code",
   "execution_count": 15,
   "metadata": {
    "slideshow": {
     "slide_type": "fragment"
    },
    "tags": []
   },
   "outputs": [
    {
     "name": "stdout",
     "output_type": "stream",
     "text": [
      "67.4 ms ± 913 µs per loop (mean ± std. dev. of 7 runs, 10 loops each)\n"
     ]
    }
   ],
   "source": [
    "%%timeit\n",
    "# Slow - Python code.\n",
    "s = 0\n",
    "l = list(range(N))\n",
    "for i in l:\n",
    "    s += i"
   ]
  },
  {
   "cell_type": "code",
   "execution_count": null,
   "metadata": {
    "slideshow": {
     "slide_type": "fragment"
    },
    "tags": []
   },
   "outputs": [],
   "source": [
    "%%timeit\n",
    "# Fast - compiled code.\n",
    "a = np.arange(N)\n",
    "s = np.sum(a)"
   ]
  },
  {
   "cell_type": "code",
   "execution_count": null,
   "metadata": {
    "slideshow": {
     "slide_type": "skip"
    },
    "tags": []
   },
   "outputs": [],
   "source": [
    "import matplotlib.pyplot as plt\n",
    "import pandas as pd"
   ]
  }
 ],
 "metadata": {
  "kernelspec": {
   "display_name": "Python 3 (ipykernel)",
   "language": "python",
   "name": "python3"
  },
  "language_info": {
   "codemirror_mode": {
    "name": "ipython",
    "version": 3
   },
   "file_extension": ".py",
   "mimetype": "text/x-python",
   "name": "python",
   "nbconvert_exporter": "python",
   "pygments_lexer": "ipython3",
   "version": "3.10.6"
  }
 },
 "nbformat": 4,
 "nbformat_minor": 4
}